{
 "cells": [
  {
   "cell_type": "markdown",
   "metadata": {},
   "source": [
    "# Sentiment Analysis - Project Group 6"
   ]
  },
  {
   "cell_type": "markdown",
   "metadata": {},
   "source": [
    "## Importing file data into lists from #JobsReport(tweets), Positive Words and Negative Words"
   ]
  },
  {
   "cell_type": "markdown",
   "metadata": {},
   "source": [
    "### Importing tweets from #JobsReport (tweet .txt file)"
   ]
  },
  {
   "cell_type": "code",
   "execution_count": 361,
   "metadata": {
    "scrolled": true
   },
   "outputs": [],
   "source": [
    "# Open the file containing tweets '#JobsReport.txt' in read mode.\n",
    "f = open('#JobsReport.txt','r', encoding = 'utf8', errors = 'ignore')"
   ]
  },
  {
   "cell_type": "code",
   "execution_count": 362,
   "metadata": {},
   "outputs": [],
   "source": [
    "# Read the file opened above in a variable 'tweets'\n",
    "tweets = f.read()"
   ]
  },
  {
   "cell_type": "code",
   "execution_count": 363,
   "metadata": {},
   "outputs": [],
   "source": [
    "#tweets in list and converting them in lower case.\n",
    "tweet_list = [w.strip(' ,.!?:;') for w in tweets.lower().split()] "
   ]
  },
  {
   "cell_type": "code",
   "execution_count": 364,
   "metadata": {},
   "outputs": [],
   "source": [
    "# Closing the file.\n",
    "f.close()"
   ]
  },
  {
   "cell_type": "markdown",
   "metadata": {},
   "source": [
    "### Importing words from Negative Words (.txt file)"
   ]
  },
  {
   "cell_type": "code",
   "execution_count": 365,
   "metadata": {},
   "outputs": [],
   "source": [
    "# Open the file named 'Negative_Words_Final.txt' which contains the negative words in read mode.\n",
    "n = open('Negative_Words_Final.txt','r', encoding = 'utf8', errors = 'ignore')"
   ]
  },
  {
   "cell_type": "code",
   "execution_count": 366,
   "metadata": {},
   "outputs": [],
   "source": [
    "# Read the file opened above in a variable 'neg'\n",
    "neg = n.read()"
   ]
  },
  {
   "cell_type": "code",
   "execution_count": 367,
   "metadata": {
    "scrolled": true
   },
   "outputs": [],
   "source": [
    "neg = neg.strip(' ,.!?:;').lower().split() #negative words in a list"
   ]
  },
  {
   "cell_type": "code",
   "execution_count": 368,
   "metadata": {},
   "outputs": [],
   "source": [
    "n.close()"
   ]
  },
  {
   "cell_type": "markdown",
   "metadata": {},
   "source": [
    "### Importing tweets from Positive Words (.txt file)"
   ]
  },
  {
   "cell_type": "code",
   "execution_count": 369,
   "metadata": {},
   "outputs": [],
   "source": [
    "# Open the file named 'Positive_Words.txt' which contains the positive words in read mode.\n",
    "p = open('Positive_Words.txt','r', encoding = 'utf8', errors = 'ignore')"
   ]
  },
  {
   "cell_type": "code",
   "execution_count": 370,
   "metadata": {},
   "outputs": [],
   "source": [
    "# Read the file opened above in a variable 'pos'\n",
    "pos = p.read()"
   ]
  },
  {
   "cell_type": "code",
   "execution_count": 371,
   "metadata": {
    "scrolled": true
   },
   "outputs": [],
   "source": [
    "pos = pos.strip(' –,').replace(',', '').lower().split() #positive words in a list"
   ]
  },
  {
   "cell_type": "code",
   "execution_count": 372,
   "metadata": {},
   "outputs": [],
   "source": [
    "p.close()"
   ]
  },
  {
   "cell_type": "markdown",
   "metadata": {},
   "source": [
    "### Check if all files are closed"
   ]
  },
  {
   "cell_type": "code",
   "execution_count": 373,
   "metadata": {
    "scrolled": true
   },
   "outputs": [
    {
     "data": {
      "text/plain": [
       "True"
      ]
     },
     "execution_count": 373,
     "metadata": {},
     "output_type": "execute_result"
    }
   ],
   "source": [
    "# Check if the files are closed.\n",
    "f.closed"
   ]
  },
  {
   "cell_type": "code",
   "execution_count": 374,
   "metadata": {},
   "outputs": [
    {
     "data": {
      "text/plain": [
       "True"
      ]
     },
     "execution_count": 374,
     "metadata": {},
     "output_type": "execute_result"
    }
   ],
   "source": [
    "n.closed"
   ]
  },
  {
   "cell_type": "code",
   "execution_count": 375,
   "metadata": {},
   "outputs": [
    {
     "data": {
      "text/plain": [
       "True"
      ]
     },
     "execution_count": 375,
     "metadata": {},
     "output_type": "execute_result"
    }
   ],
   "source": [
    "p.closed"
   ]
  },
  {
   "cell_type": "markdown",
   "metadata": {},
   "source": [
    "### Code to calculate general sentiment"
   ]
  },
  {
   "cell_type": "code",
   "execution_count": 376,
   "metadata": {},
   "outputs": [],
   "source": [
    "#Initializing variables to calculate the general sentiment.\n",
    "count_neg = 0\n",
    "count_pos = 0\n",
    "total = 0\n",
    "percent_pos = 0\n",
    "percent_neg = 0"
   ]
  },
  {
   "cell_type": "code",
   "execution_count": 377,
   "metadata": {
    "scrolled": true
   },
   "outputs": [],
   "source": [
    "#Counting the words in the tweet list that occur in posiitve words list or negative words list.\n",
    "#Positive words have been displayed as positive values & negative words as negative values.\n",
    "for word in tweet_list:\n",
    "    if word in neg:\n",
    "        count_neg-=1\n",
    "        total-=1\n",
    "    elif word in pos:\n",
    "        count_pos+=1\n",
    "        total+=1"
   ]
  },
  {
   "cell_type": "code",
   "execution_count": 378,
   "metadata": {},
   "outputs": [
    {
     "name": "stdout",
     "output_type": "stream",
     "text": [
      "Count of Positive Words: 119493\n",
      "Count of Negative Words: -46107\n",
      "Count of positive & negative words: 165600\n",
      "General Sentiment: 73386\n"
     ]
    }
   ],
   "source": [
    "#total depicts the general feeling of the tweets (positive or negative)\n",
    "#count_neg holds the no of positive words in the tweets\n",
    "#count_pos holds the no of negative words in the tweets\n",
    "print('Count of Positive Words:', count_pos)\n",
    "print('Count of Negative Words:', count_neg)\n",
    "print('Count of positive & negative words:', count_pos - count_neg)\n",
    "print('General Sentiment:', total)"
   ]
  },
  {
   "cell_type": "markdown",
   "metadata": {},
   "source": [
    "### After running sentiment analysis the general sentiment count came out to be 73386 (positive) by subtracting the total positive words found in the tweets 119493 and the total negative words found in the tweets 46107. The total number of words in the tweets are 655605 and the total of positive & negative words is 165600. The remaining words are neutral and contribute nothing towards the Sentiment. The general sentiment is positive that means public have positive sentiments to the Jobs Report released by US President Donald Trump.\n"
   ]
  },
  {
   "cell_type": "markdown",
   "metadata": {},
   "source": [
    "<i> To find out the strength of positive sentiment, we have taken the percentage of positive words in the total of positive and negative words.</i>\n",
    "##### Criteria: If the General Sentiment is positive then the overall sentiment is positive. If the percent of positive/negative words is greater than or equal to 50% then the sentiment is STRONGLY POSITIVE/NEGATIVE.\n",
    "<i>Neutral word count has not been included as they have no impact on the total and therefore can be ignored.</i>"
   ]
  },
  {
   "cell_type": "code",
   "execution_count": 384,
   "metadata": {},
   "outputs": [
    {
     "name": "stdout",
     "output_type": "stream",
     "text": [
      "Percent of postitive words: 72.15760869565217 %\n",
      "The general sentiment of Jobs Report in US is STRONGLY POSITIVE.\n"
     ]
    }
   ],
   "source": [
    "if total > 0:\n",
    "    percent_pos = (count_pos/(count_pos - count_neg)) * 100\n",
    "    print('Percent of postitive words:', percent_pos, '%')\n",
    "    if percent_pos >= 50:\n",
    "        print (\"The general sentiment of Jobs Report in US is STRONGLY POSITIVE.\")\n",
    "    else:\n",
    "        print (\"The general sentiment of Jobs Report in US is WEAKLY POSITIVE.\")\n",
    "elif total < 0:\n",
    "    percent_neg = (count_neg/(count_pos - count_neg)) * 100\n",
    "    print('Percent of negative words:', percent_neg, '%')\n",
    "    if percent_neg >= 50:\n",
    "        print (\"The general sentiment of Jobs Report in US is STRONGLY NEGATIVE.\")\n",
    "    else:\n",
    "        print (\"The general sentiment of Jobs Report in US is WEAKLY NEGATIVE.\")\n",
    "else:\n",
    "    print (\"The general sentiment of Jobs Report in US is NEUTRAL.\")"
   ]
  },
  {
   "cell_type": "markdown",
   "metadata": {},
   "source": [
    "### 72% being on the higher side shows that the sentiment is STRONGLY POSITIVE."
   ]
  }
 ],
 "metadata": {
  "kernelspec": {
   "display_name": "Python 3",
   "language": "python",
   "name": "python3"
  },
  "language_info": {
   "codemirror_mode": {
    "name": "ipython",
    "version": 3
   },
   "file_extension": ".py",
   "mimetype": "text/x-python",
   "name": "python",
   "nbconvert_exporter": "python",
   "pygments_lexer": "ipython3",
   "version": "3.7.4"
  }
 },
 "nbformat": 4,
 "nbformat_minor": 2
}
